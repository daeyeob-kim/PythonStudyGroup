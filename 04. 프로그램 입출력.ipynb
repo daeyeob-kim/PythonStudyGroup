{
 "cells": [
  {
   "cell_type": "markdown",
   "metadata": {},
   "source": [
    "# 04-1 함수"
   ]
  },
  {
   "cell_type": "markdown",
   "metadata": {},
   "source": [
    "함수란 어떤 입력값을 주었을 때 예측할 수 있는 어떤 결과값을 돌려주는 것\n",
    "* 1. 함수 사용 이유\n",
    "```\n",
    "동일 내용 반복되는 부분이 있을 경우 '반복적으로 사용되는 가치 있는 부분'을 한 뭉치로 묶어서 함수를 사용한다. 이는 프로그램의 흐름을 일목요연하게 볼 수 있는 기능을 한다.\n",
    "```"
   ]
  },
  {
   "cell_type": "markdown",
   "metadata": {},
   "source": [
    "* 2. 파이썬 함수의 구조\n",
    "```\n",
    "def는 함수를 만들 때 사용하는 예약어이며, 함수명은 함수를 만드는 사람이 임의로 만들 수 있다. 함수명 뒤 괄호 안의 입력 인수는 이 함수에 입력될 값이란 뜻이다.\n",
    "```\n",
    "```\n",
    "def 함수명(입력 인수):\n",
    "       수행할 문장1\n",
    "       수행할 문장2\n",
    "       ...\n",
    "< 들여쓰기 유의할 것 >\n",
    "```"
   ]
  },
  {
   "cell_type": "markdown",
   "metadata": {},
   "source": [
    "* 3. 입력값과 결과값에 따른 함수의 형태 4가지 -1\n",
    "```\n",
    "1) 일반적인 함수 : 입력값 O / 결과값 O\n",
    "    \n",
    "    def 함수명(입력 인수):\n",
    "       수행할 문장\n",
    "       ...\n",
    "       return 결과값 (return은 함수의 결과값을 돌려주는 명령어이다.)\n",
    "```\n",
    "```       \n",
    "결과값을 받을 변수 = 함수명(입력 인수 1, 입력 인수 2...)       \n",
    "```        "
   ]
  },
  {
   "cell_type": "code",
   "execution_count": 8,
   "metadata": {},
   "outputs": [
    {
     "name": "stdout",
     "output_type": "stream",
     "text": [
      "7\n"
     ]
    }
   ],
   "source": [
    "def sum(a,b):\n",
    "    result = a + b\n",
    "    return result\n",
    "\n",
    "a = sum(3,4)\n",
    "print(a)"
   ]
  },
  {
   "cell_type": "markdown",
   "metadata": {},
   "source": [
    "* 3. 입력값과 결과값에 따른 함수의 형태 4가지 -2\n",
    "```\n",
    "2) 입력값이 없는 함수 : 입력값 X / 결과값 O\n",
    "    \n",
    "    def 함수명():\n",
    "       수행할 문장\n",
    "       ...       \n",
    "```\n",
    "```       \n",
    "결과값을 받을 변수 = 함수명()       \n",
    "```        "
   ]
  },
  {
   "cell_type": "markdown",
   "metadata": {},
   "source": [
    "* 3. 입력값과 결과값에 따른 함수의 형태 4가지 -3\n",
    "```\n",
    "3) 결과값이 없는 함수 : 입력값 O / 결과값 X\n",
    "    \n",
    "    def 함수명(입력 인수):\n",
    "       수행할 문장\n",
    "       ...       \n",
    "```\n",
    "```       \n",
    "함수명(입력 인수 1, 입력 인수 2,,,)     \n",
    "```       "
   ]
  },
  {
   "cell_type": "code",
   "execution_count": 12,
   "metadata": {},
   "outputs": [
    {
     "name": "stdout",
     "output_type": "stream",
     "text": [
      "3,4,7\n",
      "3,4,7\n",
      "None\n"
     ]
    }
   ],
   "source": [
    "def sum(a,b):\n",
    "    print(\"%d,%d,%d\"%(a,b,a+b))\n",
    "sum(3,4)\n",
    "\n",
    "a = sum(3,4)\n",
    "print(a)\n",
    "\n",
    "## 결과창의 첫번째 문장은 함수를 실행하여 단지 그 안의 수행할 문장이 동작한 것\n",
    "## 결과창의 두번째, 세번째 문장은 결과값이 없는 함수를 출력했을 시 수행할 문장 동작 후 결과값이 없다는 의미로 리턴값에 None을 돌려준 것"
   ]
  },
  {
   "cell_type": "markdown",
   "metadata": {},
   "source": [
    "* 3. 입력값과 결과값에 따른 함수의 형태 4가지 -4\n",
    "```\n",
    "4) 입력값도 결과값도 없는 함수 : 입력값 X / 결과값 X\n",
    "    \n",
    "    def 함수명():\n",
    "       수행할 문장\n",
    "       ...       \n",
    "```\n",
    "```       \n",
    "함수명()      \n",
    "```       "
   ]
  },
  {
   "cell_type": "code",
   "execution_count": 14,
   "metadata": {},
   "outputs": [
    {
     "name": "stdout",
     "output_type": "stream",
     "text": [
      "hello\n",
      "8\n",
      "hello\n"
     ]
    },
    {
     "data": {
      "text/plain": [
       "8"
      ]
     },
     "execution_count": 14,
     "metadata": {},
     "output_type": "execute_result"
    }
   ],
   "source": [
    "def sum(a,b):\n",
    "    print(\"hello\")\n",
    "    return a + b\n",
    "\n",
    "print(sum(3,5))\n",
    "sum(3,5)\n",
    "\n",
    "## 수행할 문장과 결과값 모두 가지고 있는 함수\n",
    "## print(sum(3,5)) -> 수행할 문장 및 결과값 모두 출력\n",
    "## sum(3,5) -> 함수만 실행돼 수행할 문장은 동작하고 결과값은 출력 안됨"
   ]
  },
  {
   "cell_type": "markdown",
   "metadata": {},
   "source": [
    "* 4. 여러 개의 입력값을 받는 함수\n",
    "```\n",
    "괄호 안의 입력 인수 부분을 *입력 변수로 바꿔준다.\n",
    "```\n",
    "```\n",
    "def 함수명(*입력 변수):\n",
    "   수행할 문장\n",
    "   ...\n",
    "```"
   ]
  },
  {
   "cell_type": "code",
   "execution_count": 17,
   "metadata": {},
   "outputs": [
    {
     "name": "stdout",
     "output_type": "stream",
     "text": [
      "15\n",
      "120\n"
     ]
    }
   ],
   "source": [
    "def sum(choice,*args):\n",
    "    if choice == \"sum\":\n",
    "        result = 0\n",
    "        for i in args:\n",
    "            result = result + i\n",
    "    elif choice == \"mul\":\n",
    "        result = 1\n",
    "        for i in args:\n",
    "            result = result * i\n",
    "    return result\n",
    "\n",
    "## args와 같이 입력 변수 앞에 *를 붙이면 입력값들을 전부 모아서 튜플로 만들어 준다.\n",
    "## choice와 *args를 입력 인수로 받은 예제\n",
    "\n",
    "result = sum('sum',1,2,3,4,5)\n",
    "print(result)\n",
    "result = sum('mul',1,2,3,4,5)\n",
    "print(result)"
   ]
  },
  {
   "cell_type": "markdown",
   "metadata": {},
   "source": [
    "* 5. 함수의 결과값은 언제나 하나이다."
   ]
  },
  {
   "cell_type": "code",
   "execution_count": 22,
   "metadata": {},
   "outputs": [
    {
     "name": "stdout",
     "output_type": "stream",
     "text": [
      "(7, 12)\n",
      "7 12\n",
      "4\n"
     ]
    }
   ],
   "source": [
    "def sum_and_mul(a,b):\n",
    "    return a+b,a*b\n",
    "\n",
    "result = sum_and_mul(3,4)\n",
    "print(result)\n",
    "## 해당 함수 출력시 오류는 발생하지 않음, 결과값은 2개가 아닌 항상 1개이기에 튜플값인 (a+b,a*b)형태로 return해준다.\n",
    "\n",
    "sum, mul = sum_and_mul(3,4)\n",
    "print(sum,mul)\n",
    "## 위의 하나의 튜플값을 2개의 각기 다른 결과값처럼 받고 싶다면 변수도 해당 결과값의 수만큼 선언한다.\n",
    "\n",
    "def sum_and_mul(a,b):\n",
    "    return a+b\n",
    "    return a*b\n",
    "print(sum_and_mul(1,3))\n",
    "## return문을 여러번 사용해도 해당 횟수만큼의 값을 돌려주지는 않는다. 최초 return값 만큼만 반환한다.\n",
    "## 즉, return문을 만나는 순간 결과값을 돌려준 다음 함수를 빠져나가게 된다."
   ]
  },
  {
   "cell_type": "markdown",
   "metadata": {},
   "source": [
    "```\n",
    "cf) return문의 또 다른 쓰임새\n",
    "```"
   ]
  },
  {
   "cell_type": "code",
   "execution_count": 24,
   "metadata": {},
   "outputs": [
    {
     "name": "stdout",
     "output_type": "stream",
     "text": [
      "나의 별명은 야호입니다.\n"
     ]
    }
   ],
   "source": [
    "def say_nick(nick):\n",
    "    if nick == \"바보\":\n",
    "        return\n",
    "    print(\"나의 별명은 %s입니다.\"%nick)\n",
    "    \n",
    "say_nick(\"야호\")\n",
    "say_nick(\"바보\")\n",
    "\n",
    "## 특별한 상황이 되면 함수를 빠져나가고자 할 때 return을 단독으로 사용해 함수를 즉시 빠져나갈 수 있다.\n",
    "## \"바보\"입력시 return값 존재하지 않는 채로 함수 종료"
   ]
  },
  {
   "cell_type": "markdown",
   "metadata": {},
   "source": [
    "* 6. 입력 인수에 초기값 미리 설정하기\n",
    "```\n",
    "초기값을 미리 설정한 후 인수를 전달하는 방법 (True,False)\n",
    "```"
   ]
  },
  {
   "cell_type": "code",
   "execution_count": 25,
   "metadata": {},
   "outputs": [
    {
     "name": "stdout",
     "output_type": "stream",
     "text": [
      "name : 하지호\n",
      "old : 24\n",
      "남자\n",
      "name : 하지호\n",
      "old : 24\n",
      "남자\n",
      "name : 하지호\n",
      "old : 24\n",
      "여자\n"
     ]
    }
   ],
   "source": [
    "def say(name,old,man=True):\n",
    "    print(\"name : %s\"%name)\n",
    "    print(\"old : %d\"%old)\n",
    "    if man:\n",
    "        print(\"남자\")\n",
    "    else:\n",
    "        print(\"여자\")\n",
    "\n",
    "say(\"하지호\",24,True)\n",
    "say(\"하지호\",24)\n",
    "## True 명시하지 않으면 자동으로 True로 넘어감\n",
    "say(\"하지호\",24,False)\n",
    "\n",
    "## 함수 입력 인수에 초깃값 사용시 주의사항\n",
    "## 초깃값을 설정한 인수의 위치는 항상 맨 뒤쪽, 초기화시키고 싶은 입력 변수들은 항상 맨 뒤쪽에 위치시켜야 함"
   ]
  },
  {
   "cell_type": "markdown",
   "metadata": {},
   "source": [
    "* 7. 함수 안에서 선언된 변수의 효력 범위"
   ]
  },
  {
   "cell_type": "code",
   "execution_count": 31,
   "metadata": {},
   "outputs": [
    {
     "name": "stdout",
     "output_type": "stream",
     "text": [
      "1\n"
     ]
    }
   ],
   "source": [
    "a = 1\n",
    "def vartest(a):\n",
    "    a = a + 1\n",
    "    \n",
    "vartest(a)\n",
    "print(a)\n",
    "\n",
    "## 변수의 이름만 동일한 것이지 함수내에서 사용되는 변수는 지역변수 개념으로 사용\n",
    "## print(a)의 a는 전역변수\n",
    "## 함수 안에서 사용되는 변수는 함수 밖의 변수 이름들과는 전혀 상관없다."
   ]
  },
  {
   "cell_type": "markdown",
   "metadata": {},
   "source": [
    "```\n",
    "cf) 함수 안에서 함수 밖의 변수를 변경하는 방법\n",
    "```"
   ]
  },
  {
   "cell_type": "code",
   "execution_count": 32,
   "metadata": {},
   "outputs": [
    {
     "name": "stdout",
     "output_type": "stream",
     "text": [
      "2\n",
      "2\n"
     ]
    }
   ],
   "source": [
    "a = 1\n",
    "def vartest(a):\n",
    "    a = a + 1\n",
    "    return a\n",
    "\n",
    "a = vartest(a)\n",
    "print(a)\n",
    "\n",
    "## 함수내의 지역변수로 쓰이는 a를 return값으로 빼서 해당 결과값을 함수밖 전역변수 a에 대입해준다. \n",
    "\n",
    "a = 1\n",
    "def vartest():\n",
    "    global a\n",
    "    a = a + 1\n",
    "\n",
    "vartest()\n",
    "print(a)\n",
    "\n",
    "## global명령어 통해 함수 밖의 전역변수인 a를 그대로 가져다 사용한다."
   ]
  },
  {
   "cell_type": "markdown",
   "metadata": {},
   "source": [
    "# 04-2 사용자 입력과 출력"
   ]
  },
  {
   "cell_type": "markdown",
   "metadata": {},
   "source": [
    "* 1. 사용자 입력, input()"
   ]
  },
  {
   "cell_type": "code",
   "execution_count": 34,
   "metadata": {},
   "outputs": [
    {
     "name": "stdout",
     "output_type": "stream",
     "text": [
      "숫자를 입력하시오: 3\n",
      "3\n"
     ]
    }
   ],
   "source": [
    "number = input(\"숫자를 입력하시오: \")\n",
    "print(number)\n",
    "\n",
    "## input()에 입력되는 모든것은 문자열로 취급되고 input()의 괄호안에 질문을 입력하여 프롬프트를 띄울 수 있다. "
   ]
  },
  {
   "cell_type": "markdown",
   "metadata": {},
   "source": [
    "* print()\n",
    "```\n",
    "print()는 우리가 입력한 자료형을 출력하는 함수이다.\n",
    "```"
   ]
  },
  {
   "cell_type": "code",
   "execution_count": 39,
   "metadata": {},
   "outputs": [
    {
     "name": "stdout",
     "output_type": "stream",
     "text": [
      "lifeisgood\n",
      "lifeisgood\n",
      "life is good\n",
      "0 1 2 3 4 5 6 7 8 9 "
     ]
    }
   ],
   "source": [
    "print(\"life\"\"is\"\"good\")\n",
    "print(\"life\"+\"is\"+\"good\")\n",
    "## 큰따옴표로 둘러싸인 문자열은 +연산과 동일하다.\n",
    "\n",
    "print(\"life\",\"is\",\"good\")\n",
    "## 문자열 띄어쓰기는 콤마로 한다.\n",
    "\n",
    "for i in range(10):\n",
    "    print(i,end=\" \")\n",
    "## 한 줄에 결과값을 계속 이어서 출력하려면 입력 인수 end를 이용해 끝 문자를 지정한다."
   ]
  },
  {
   "cell_type": "markdown",
   "metadata": {},
   "source": [
    "# 04-3 파일 읽고 쓰기\n",
    "```\n",
    "'입력'을 받을 시 사용자가 직접 입력하고, '출력'할 때는 모니터 화면에 결과값을 출력하는 방식으로의 입출력만 존재하는 것이 아니다.\n",
    "```"
   ]
  },
  {
   "cell_type": "markdown",
   "metadata": {},
   "source": [
    "* 1. 파일 생성하기\n",
    "```\n",
    " open이라는 파이썬 내장 함수 사용, open함수는 '파일 이름', '파일 열기 모드'를 입력값으로 받고 결과값으로 파일 객체를 돌려준다.\n",
    " 파일 객체 = open(파일 이름, 파일 열기 모드)\n",
    " 파일 열기 모드 r -> 읽기 모드 / 파일을 읽기만 할 때 사용\n",
    "                    w -> 쓰기 모드 / 파일에 내용을 쓸 때 사용\n",
    "                    a -> 추가 모드 / 파일의 마지막에 새로운 내용을 추가할 때 사용\n",
    "```"
   ]
  },
  {
   "cell_type": "code",
   "execution_count": 42,
   "metadata": {},
   "outputs": [],
   "source": [
    "f = open(\"새파일.txt\",'w')\n",
    "f.close()         ## 열려 있는 파일을 닫아주는 역할\n",
    "## 프로그램을 실행한 디렉터리에 새로운 파일이 하나 생성됨\n",
    "## 해당 파일이 존재하지 않으면 새로운 파일이 생성되지만 이미 존재할 경우 원래 있던 내용이 모두 사라진다.\n",
    "## 다른 디렉토리 희망할 시 f=open(\"C:/Python/새파일..txt\",'w')로 앞에 디렉토리를 추가해 준다"
   ]
  },
  {
   "cell_type": "markdown",
   "metadata": {},
   "source": [
    "* 2. 파일을 쓰기 모드로 열어 출력값 적기 (쓰는법)"
   ]
  },
  {
   "cell_type": "code",
   "execution_count": 2,
   "metadata": {},
   "outputs": [],
   "source": [
    "f = open(\"새파일.txt\",'w')\n",
    "for i in range(1,11):\n",
    "    data = \"%d번째 줄입니다.\\n\"%i\n",
    "    f.write(data)          ##data를 파일 객체 f에 써라\n",
    "f.close()\n",
    "## 메모장은 파이썬 shell이용시 결과창의 기능을 대신한다.\n",
    "## print()함수의 기능을 대신한다. f.write(\"test\") 입력시 print()함수의 기능과 동일하게 메모장에 \"\"안의 내용이 적힌다.\n",
    "## 메모장에 1번째 줄입니다 ~ 10번째 줄입니다 까지 입력되어 있다"
   ]
  },
  {
   "cell_type": "markdown",
   "metadata": {},
   "source": [
    "* 3. 프로그램의 외부에 저장된 파일을 읽는 여러 가지 방법 (읽는법)"
   ]
  },
  {
   "cell_type": "code",
   "execution_count": 45,
   "metadata": {},
   "outputs": [
    {
     "name": "stdout",
     "output_type": "stream",
     "text": [
      "1번째 줄입니다.\n",
      "\n"
     ]
    }
   ],
   "source": [
    "f = open(\"새파일.txt\",'r')\n",
    "line = f.readline()\n",
    "print(line)\n",
    "f.close()\n",
    "## readline()함수만 호출하는 것이 아닌 print()통해 출력"
   ]
  },
  {
   "cell_type": "code",
   "execution_count": 3,
   "metadata": {},
   "outputs": [
    {
     "name": "stdout",
     "output_type": "stream",
     "text": [
      "1번째 줄입니다.\n",
      "\n",
      "2번째 줄입니다.\n",
      "\n",
      "3번째 줄입니다.\n",
      "\n",
      "4번째 줄입니다.\n",
      "\n",
      "5번째 줄입니다.\n",
      "\n",
      "6번째 줄입니다.\n",
      "\n",
      "7번째 줄입니다.\n",
      "\n",
      "8번째 줄입니다.\n",
      "\n",
      "9번째 줄입니다.\n",
      "\n",
      "10번째 줄입니다.\n",
      "\n"
     ]
    }
   ],
   "source": [
    "f = open(\"새파일.txt\",'r')\n",
    "lines = f.readlines()\n",
    "for line in lines:\n",
    "    print(line)        \n",
    "f.close()\n",
    "## readlines()함수는 파일의 모든 라인을 읽어서 각각의 줄을 요소로 갖는 리스트로 리턴하는 함수\n",
    "## [\"1번째 줄입니다\",\"2번쨰 줄입니다\",,,,]라는 리스트의 lines가 된다."
   ]
  },
  {
   "cell_type": "code",
   "execution_count": 10,
   "metadata": {},
   "outputs": [
    {
     "name": "stdout",
     "output_type": "stream",
     "text": [
      "1번째 줄입니다.\n",
      "2번째 줄입니다.\n",
      "3번째 줄입니다.\n",
      "4번째 줄입니다.\n",
      "5번째 줄입니다.\n",
      "6번째 줄입니다.\n",
      "7번째 줄입니다.\n",
      "8번째 줄입니다.\n",
      "9번째 줄입니다.\n",
      "10번째 줄입니다.\n",
      "\n",
      "\n"
     ]
    }
   ],
   "source": [
    "f = open(\"새파일.txt\",'r')\n",
    "data = f.read()\n",
    "print(data)\n",
    "f.close()\n",
    "## f.read()함수는 파일 내용 전체를 문자열로 리턴한다."
   ]
  },
  {
   "cell_type": "markdown",
   "metadata": {},
   "source": [
    "* 4. 파일에 새로운 내용 추가하기"
   ]
  },
  {
   "cell_type": "code",
   "execution_count": 6,
   "metadata": {},
   "outputs": [],
   "source": [
    "f = open(\"새파일.txt\",'a')\n",
    "for i in range(11,20):\n",
    "    data = \"%d번째 줄입니다.\\n\"%i\n",
    "    f.write(data)\n",
    "f.close() \n",
    "## 파일을 추가 모드 'a'로 열어 쓰기 모드와 동일한 write함수 사용해서 기존에 작성된 문장 이후부터 새로운 결과값 적기 시작.\n",
    "## 이 코드 컨파일 후 위의 코드 돌려보면 변화 확인 가능"
   ]
  },
  {
   "cell_type": "markdown",
   "metadata": {},
   "source": [
    "* 5. with문과 함께 사용하기"
   ]
  },
  {
   "cell_type": "code",
   "execution_count": 12,
   "metadata": {},
   "outputs": [],
   "source": [
    "f = open(\"foo.txt\",'w')\n",
    "f.write(\"Life is too short, you need python\")\n",
    "f.close()\n",
    "## 기존 사용 방식, f=open(),f.close() 통해 파일 열고 닫기"
   ]
  },
  {
   "cell_type": "code",
   "execution_count": 13,
   "metadata": {},
   "outputs": [],
   "source": [
    "with open(\"foo.txt\",'w') as f:\n",
    "    f.write(\"Life is too short, you need python\")\n",
    "## with문을 사용시 with 블록을 벗어나는 순간 열린 파일 객체 f가 자동으로 close된다."
   ]
  },
  {
   "cell_type": "code",
   "execution_count": null,
   "metadata": {},
   "outputs": [],
   "source": []
  },
  {
   "cell_type": "code",
   "execution_count": null,
   "metadata": {},
   "outputs": [],
   "source": []
  }
 ],
 "metadata": {
  "kernelspec": {
   "display_name": "Python 3",
   "language": "python",
   "name": "python3"
  },
  "language_info": {
   "codemirror_mode": {
    "name": "ipython",
    "version": 3
   },
   "file_extension": ".py",
   "mimetype": "text/x-python",
   "name": "python",
   "nbconvert_exporter": "python",
   "pygments_lexer": "ipython3",
   "version": "3.8.3"
  }
 },
 "nbformat": 4,
 "nbformat_minor": 4
}
